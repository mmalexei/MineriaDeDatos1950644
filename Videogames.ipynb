{
 "cells": [
  {
   "cell_type": "code",
   "execution_count": 3,
   "id": "1c08b58c",
   "metadata": {},
   "outputs": [],
   "source": [
    "import pandas as pd\n",
    "import numpy as np\n",
    "import seaborn as sns\n",
    "import matplotlib.pyplot as plt\n",
    "import plotly.express as px\n",
    "import plotly.io as pio\n",
    "import scipy.stats as st\n",
    "import math\n",
    "import datetime\n",
    "import missingno as msno\n",
    "from scipy.stats import norm, skew\n",
    "from sklearn import metrics\n",
    "from collections import Counter\n",
    "\n",
    "from sklearn.preprocessing import LabelEncoder\n",
    "from sklearn.preprocessing import MinMaxScaler, RobustScaler, StandardScaler\n",
    "from sklearn.model_selection import train_test_split, GridSearchCV, cross_val_score, KFold\n",
    "from sklearn.metrics import mean_squared_error, mean_squared_log_error, r2_score\n",
    "from sklearn import model_selection\n",
    "from sklearn.pipeline import make_pipeline\n",
    "from xgboost import XGBRegressor\n",
    "from lightgbm import LGBMRegressor\n",
    "from sklearn.svm import SVR\n",
    "from sklearn.ensemble import RandomForestRegressor, GradientBoostingRegressor\n",
    "from sklearn.linear_model import Ridge, RidgeCV, Lasso, LassoCV\n",
    "from mlxtend.regressor import StackingCVRegressor"
   ]
  },
  {
   "cell_type": "markdown",
   "id": "555cfa43",
   "metadata": {},
   "source": [
    "### Adquisicion de datos\n",
    "\n"
   ]
  },
  {
   "cell_type": "code",
   "execution_count": 4,
   "id": "031c2afc",
   "metadata": {},
   "outputs": [
    {
     "name": "stdout",
     "output_type": "stream",
     "text": [
      "<class 'pandas.core.frame.DataFrame'>\n",
      "RangeIndex: 16539 entries, 0 to 16538\n",
      "Data columns (total 10 columns):\n",
      " #   Column        Non-Null Count  Dtype  \n",
      "---  ------        --------------  -----  \n",
      " 0   Name          16539 non-null  object \n",
      " 1   Platform      16539 non-null  object \n",
      " 2   Year          16290 non-null  float64\n",
      " 3   Genre         16539 non-null  object \n",
      " 4   Publisher     16539 non-null  object \n",
      " 5   NA_Sales      16539 non-null  float64\n",
      " 6   EU_Sales      16539 non-null  float64\n",
      " 7   JP_Sales      16539 non-null  float64\n",
      " 8   Other_Sales   16539 non-null  float64\n",
      " 9   Global_Sales  16539 non-null  float64\n",
      "dtypes: float64(6), object(4)\n",
      "memory usage: 1.3+ MB\n"
     ]
    }
   ],
   "source": [
    "vg = pd.read_csv(\"vgsales.csv\")\n",
    "df = vg.copy()\n",
    "df.info()\n"
   ]
  },
  {
   "cell_type": "markdown",
   "id": "5ca61ba4",
   "metadata": {},
   "source": [
    "### Limpieza de datos\n"
   ]
  },
  {
   "cell_type": "code",
   "execution_count": 8,
   "id": "f09e9ffd",
   "metadata": {},
   "outputs": [
    {
     "name": "stderr",
     "output_type": "stream",
     "text": [
      "<>:11: SyntaxWarning: invalid escape sequence '\\e'\n",
      "<>:11: SyntaxWarning: invalid escape sequence '\\e'\n",
      "C:\\Users\\asmm2\\AppData\\Local\\Temp\\ipykernel_38480\\377249705.py:11: SyntaxWarning: invalid escape sequence '\\e'\n",
      "  cleaned_file_path = 'D:\\escUelea\\Facu\\FCFM\\\\7° semesse\\Minería de datos\\Mineria\\MineriaDeDatos1950644/vgsales_cleaned.csv'\n"
     ]
    },
    {
     "data": {
      "text/plain": [
       "((16290, 11),\n",
       "          Name Platform    Year     Genre   Publisher  NA_Sales  EU_Sales  \\\n",
       " 0     Kaboom!     2600  1980.0      Misc  Activision      1.07      0.07   \n",
       " 1      Boxing     2600  1980.0  Fighting  Activision      0.72      0.04   \n",
       " 2  Ice Hockey     2600  1980.0    Sports  Activision      0.46      0.03   \n",
       " 3     Freeway     2600  1980.0    Action  Activision      0.32      0.02   \n",
       " 4      Bridge     2600  1980.0      Misc  Activision      0.25      0.02   \n",
       " \n",
       "    JP_Sales  Other_Sales  Global_Sales Release_Date  \n",
       " 0       0.0         0.01          1.15   1980-01-01  \n",
       " 1       0.0         0.01          0.77   1980-01-01  \n",
       " 2       0.0         0.01          0.49   1980-01-01  \n",
       " 3       0.0         0.00          0.34   1980-01-01  \n",
       " 4       0.0         0.00          0.27   1980-01-01  )"
      ]
     },
     "execution_count": 8,
     "metadata": {},
     "output_type": "execute_result"
    }
   ],
   "source": [
    "# Eliminar duplicados\n",
    "df = df.drop_duplicates()\n",
    "\n",
    "# Eliminar filas con valores nulos en 'Year'\n",
    "df = df.dropna(subset=['Year'])\n",
    "\n",
    "# Actualizar la columna 'Release_Date' después de limpiar\n",
    "df['Release_Date'] = pd.to_datetime(df['Year'].astype(int).astype(str) + '-01-01', errors='coerce')\n",
    "\n",
    "# Guardar una copia limpia por si el usuario desea usarla más adelante\n",
    "cleaned_file_path = 'D:\\escUelea\\Facu\\FCFM\\\\7° semesse\\Minería de datos\\Mineria\\MineriaDeDatos1950644/vgsales_cleaned.csv'\n",
    "df.to_csv(cleaned_file_path, index=False)\n",
    "\n",
    "# Mostrar ruta del archivo limpio y primeras filas\n",
    "df.shape, df.head()\n"
   ]
  },
  {
   "cell_type": "markdown",
   "id": "15cd651c",
   "metadata": {},
   "source": [
    "### Estadisticas descriptivas\n"
   ]
  },
  {
   "cell_type": "code",
   "execution_count": 9,
   "id": "4415e7b1",
   "metadata": {},
   "outputs": [
    {
     "name": "stdout",
     "output_type": "stream",
     "text": [
      "Estadísticas numéricas:\n",
      "               Year      NA_Sales      EU_Sales      JP_Sales   Other_Sales  \\\n",
      "count  16290.000000  16290.000000  16290.000000  16290.000000  16290.000000   \n",
      "mean    2006.404727      0.265646      0.147740      0.078838      0.048428   \n",
      "std        5.831618      0.822457      0.509317      0.311888      0.190089   \n",
      "min     1980.000000      0.000000      0.000000      0.000000      0.000000   \n",
      "25%     2003.000000      0.000000      0.000000      0.000000      0.000000   \n",
      "50%     2007.000000      0.080000      0.020000      0.000000      0.010000   \n",
      "75%     2010.000000      0.240000      0.110000      0.040000      0.040000   \n",
      "max     2017.000000     41.490000     29.020000     10.220000     10.570000   \n",
      "\n",
      "       Global_Sales  \n",
      "count  16290.000000  \n",
      "mean       0.540926  \n",
      "std        1.567391  \n",
      "min        0.010000  \n",
      "25%        0.060000  \n",
      "50%        0.170000  \n",
      "75%        0.480000  \n",
      "max       82.740000  \n",
      "\n",
      "Cantidad de juegos por género:\n",
      "Genre\n",
      "Action          3251\n",
      "Sports          2304\n",
      "Misc            1686\n",
      "Role-Playing    1470\n",
      "Shooter         1282\n",
      "Adventure       1274\n",
      "Racing          1225\n",
      "Platform         875\n",
      "Simulation       847\n",
      "Fighting         836\n",
      "Strategy         670\n",
      "Puzzle           570\n",
      "Name: count, dtype: int64\n",
      "\n",
      "Cantidad de juegos por plataforma:\n",
      "Platform\n",
      "DS      2130\n",
      "PS2     2127\n",
      "PS3     1304\n",
      "Wii     1290\n",
      "X360    1234\n",
      "PSP     1197\n",
      "PS      1189\n",
      "PC       938\n",
      "XB       803\n",
      "GBA      786\n",
      "GC       542\n",
      "3DS      499\n",
      "PSV      410\n",
      "PS4      336\n",
      "N64      316\n",
      "SNES     239\n",
      "XOne     213\n",
      "SAT      173\n",
      "WiiU     143\n",
      "2600     116\n",
      "NES       98\n",
      "GB        97\n",
      "DC        52\n",
      "GEN       27\n",
      "NG        12\n",
      "WS         6\n",
      "SCD        6\n",
      "3DO        3\n",
      "TG16       2\n",
      "GG         1\n",
      "PCFX       1\n",
      "Name: count, dtype: int64\n",
      "\n",
      "Top 10 publishers:\n",
      "Publisher\n",
      "Electronic Arts                 1339\n",
      "Activision                       966\n",
      "Namco Bandai Games               928\n",
      "Ubisoft                          917\n",
      "Konami Digital Entertainment     823\n",
      "THQ                              712\n",
      "Nintendo                         696\n",
      "Sony Computer Entertainment      682\n",
      "Sega                             632\n",
      "Take-Two Interactive             412\n",
      "Name: count, dtype: int64\n",
      "\n",
      "Correlación entre variables numéricas:\n",
      "                  Year  NA_Sales  EU_Sales  JP_Sales  Other_Sales  \\\n",
      "Year          1.000000 -0.091301  0.006151 -0.169379     0.041157   \n",
      "NA_Sales     -0.091301  1.000000  0.768925  0.451284     0.634519   \n",
      "EU_Sales      0.006151  0.768925  1.000000  0.436377     0.726256   \n",
      "JP_Sales     -0.169379  0.451284  0.436377  1.000000     0.290558   \n",
      "Other_Sales   0.041157  0.634519  0.726256  0.290558     1.000000   \n",
      "Global_Sales -0.074637  0.941270  0.903264  0.612773     0.747964   \n",
      "\n",
      "              Global_Sales  \n",
      "Year             -0.074637  \n",
      "NA_Sales          0.941270  \n",
      "EU_Sales          0.903264  \n",
      "JP_Sales          0.612773  \n",
      "Other_Sales       0.747964  \n",
      "Global_Sales      1.000000  \n"
     ]
    }
   ],
   "source": [
    "# Cargar el dataset limpio\n",
    "df = pd.read_csv(\"vgsales_cleaned.csv\")\n",
    "\n",
    "# Estadísticas de columnas numéricas\n",
    "print(\"Estadísticas numéricas:\")\n",
    "print(df.describe())\n",
    "\n",
    "# Cantidad de juegos por género\n",
    "print(\"\\nCantidad de juegos por género:\")\n",
    "print(df['Genre'].value_counts())\n",
    "\n",
    "# Cantidad de juegos por plataforma\n",
    "print(\"\\nCantidad de juegos por plataforma:\")\n",
    "print(df['Platform'].value_counts())\n",
    "\n",
    "# Top 10 publishers\n",
    "print(\"\\nTop 10 publishers:\")\n",
    "print(df['Publisher'].value_counts().head(10))\n",
    "\n",
    "# Correlaciones entre variables numéricas\n",
    "print(\"\\nCorrelación entre variables numéricas:\")\n",
    "print(df.corr(numeric_only=True))"
   ]
  }
 ],
 "metadata": {
  "kernelspec": {
   "display_name": "Python 3",
   "language": "python",
   "name": "python3"
  },
  "language_info": {
   "codemirror_mode": {
    "name": "ipython",
    "version": 3
   },
   "file_extension": ".py",
   "mimetype": "text/x-python",
   "name": "python",
   "nbconvert_exporter": "python",
   "pygments_lexer": "ipython3",
   "version": "3.12.5"
  }
 },
 "nbformat": 4,
 "nbformat_minor": 5
}
